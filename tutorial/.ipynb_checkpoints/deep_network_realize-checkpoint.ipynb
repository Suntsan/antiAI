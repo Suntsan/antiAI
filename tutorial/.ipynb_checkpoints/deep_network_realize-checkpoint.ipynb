{
 "cells": [
  {
   "cell_type": "markdown",
   "metadata": {},
   "source": [
    "# 深度神经网络拟合函数"
   ]
  },
  {
   "cell_type": "code",
   "execution_count": 1,
   "metadata": {},
   "outputs": [],
   "source": [
    "import numpy as np\n",
    "import matplotlib.pyplot as plt\n",
    "import math"
   ]
  },
  {
   "cell_type": "code",
   "execution_count": 2,
   "metadata": {},
   "outputs": [
    {
     "name": "stdout",
     "output_type": "stream",
     "text": [
      "(50, 1)\n"
     ]
    }
   ],
   "source": [
    "# initial x-value\n",
    "X_MAX = 50\n",
    "x_arr = np.linspace(1, X_MAX, X_MAX).reshape(X_MAX, 1)\n",
    "x_len = len(x_arr)\n",
    "print(x_arr.shape)"
   ]
  },
  {
   "cell_type": "code",
   "execution_count": 3,
   "metadata": {},
   "outputs": [],
   "source": [
    "# learning parameter\n",
    "lr = 0.5\n",
    "MAX_EPISODE = 5"
   ]
  },
  {
   "cell_type": "code",
   "execution_count": 4,
   "metadata": {},
   "outputs": [],
   "source": [
    "# deep network layer --- 1x4x3x1\n",
    "NUM_l1 = 1\n",
    "NUM_l2 = 5\n",
    "NUM_l3 = 5\n",
    "NUM_l4 = 1\n",
    "# define W and b\n",
    "\n",
    "weight12 = np.matrix(np.random.rand(NUM_l2, NUM_l1))\n",
    "b1 = np.matrix(np.random.rand(NUM_l2, 1))\n",
    "\n",
    "weight23 = np.matrix(np.random.rand(NUM_l3, NUM_l2))\n",
    "b2 = np.matrix(np.random.rand(NUM_l3, 1))\n",
    "\n",
    "weight34 = np.matrix(np.random.rand(NUM_l4, NUM_l3))\n",
    "b3 = np.matrix(np.random.rand(NUM_l4, 1))\n",
    "\n",
    "W_net = [weight12, weight23, weight34]\n",
    "b_net = [b1, b2, b3]"
   ]
  },
  {
   "cell_type": "code",
   "execution_count": 5,
   "metadata": {},
   "outputs": [],
   "source": [
    "# define active_function\n",
    "def fun_act(x):\n",
    "    y = 1.0 / (1 + np.exp(-x))\n",
    "    return y"
   ]
  },
  {
   "cell_type": "code",
   "execution_count": 6,
   "metadata": {},
   "outputs": [
    {
     "name": "stdout",
     "output_type": "stream",
     "text": [
      "(1, 1)\n"
     ]
    }
   ],
   "source": [
    "# test network dimension\n",
    "z1_test = np.matrix(x_arr[1])\n",
    "z1_test.shape\n",
    "h2_test = np.matmul(weight12, z1_test)\n",
    "z2_test = fun_act(np.matmul(weight12, z1_test) + b1)\n",
    "z3_test = fun_act(np.matmul(weight23, z2_test) + b2)\n",
    "y_test = np.matmul(weight34, z3_test) + b3\n",
    "print(y_test.shape)"
   ]
  },
  {
   "cell_type": "code",
   "execution_count": 7,
   "metadata": {},
   "outputs": [],
   "source": [
    "def fun_forward(x):\n",
    "    y = x\n",
    "    max_len = len(b_net)\n",
    "    for num, weight in enumerate(W_net):\n",
    "        # print(weight.shape)\n",
    "        y = np.matmul(weight, y) + b_net[num]\n",
    "        # active_function\n",
    "        if num == (max_len - 1):\n",
    "            break\n",
    "        y = fun_act(y)\n",
    "    return y"
   ]
  },
  {
   "cell_type": "code",
   "execution_count": 8,
   "metadata": {},
   "outputs": [],
   "source": [
    "# define array to record temp data\n",
    "y_arr = np.zeros_like(x_arr)\n",
    "x_env_arr = np.zeros_like(x_arr)"
   ]
  },
  {
   "cell_type": "code",
   "execution_count": 9,
   "metadata": {},
   "outputs": [],
   "source": [
    "for num, z1 in enumerate(x_arr):\n",
    "    z1 = np.matrix(z1)\n",
    "\n",
    "    for j in range(MAX_EPISODE):\n",
    "        # y_target = fun_forward(z1)\n",
    "        # forward\n",
    "        h2 = np.matmul(weight12, z1) + b1\n",
    "        z2 = fun_act(h2)\n",
    "        h3 = np.matmul(weight23, z2) + b2\n",
    "        z3 = fun_act(h3)\n",
    "        y_target = np.matmul(weight34, z3) + b3\n",
    "        # x_env = 1.2 * y_target\n",
    "        x_env = -(X_MAX + 10) / X_MAX ** 2 * (y_target - X_MAX) ** 2 + X_MAX + 10\n",
    "\n",
    "        loss = 1/2.* (x_env - z1) * (x_env - z1)\n",
    "        dloss_y = x_env - z1\n",
    "\n",
    "        \n",
    "        # pro-backward\n",
    "        dy_dz3 = weight34\n",
    "        act_h3 = np.transpose(fun_act(h3))\n",
    "        dz3_dh3 = np.multiply(act_h3, 1 - act_h3)\n",
    "        dh3_dz2 = weight23\n",
    "        act_h2 = np.transpose(fun_act(h2))\n",
    "        dz2_dh2 = np.multiply(act_h2, 1 - act_h2)\n",
    "        # dw34\n",
    "        dloss_dw34 = np.matmul(z3, dloss_y)\n",
    "        dloss_db3 = dloss_y\n",
    "        # print(dloss_dw34.shape)\n",
    "        \n",
    "        # dw23\n",
    "        dloss_dh3 = np.multiply(dloss_y * dy_dz3, dz3_dh3)\n",
    "        dloss_dw23 = np.matmul(z2, dloss_dh3)\n",
    "        dloss_db2 = dloss_dh3\n",
    "        \n",
    "        # dw12 \n",
    "        dloss_dh2 = np.multiply(np.matmul(dloss_dh3, dh3_dz2), dz2_dh2)\n",
    "        dloss_dw12 = np.matmul(z1, dloss_dh2)\n",
    "        dloss_db1 = dloss_dh2\n",
    "        \n",
    "        # update the net parameter\n",
    "        weigh12 = weight12 - lr * np.transpose(dloss_dw12)\n",
    "        b1 = b1 - lr * np.transpose(dloss_db1)\n",
    "        \n",
    "        weight23 = weight23 - lr * np.transpose(dloss_dw23)\n",
    "        b2 = b2 - lr * np.transpose(dloss_db2)\n",
    "\n",
    "        weigh34 = weight34 - lr * np.transpose(dloss_dw34)\n",
    "        b3 = b3 - lr * np.transpose(dloss_db3)\n",
    "    \n",
    "    # print(loss)\n",
    "    y_arr[num] = y_target\n",
    "    x_env_arr[num] = x_env"
   ]
  },
  {
   "cell_type": "code",
   "execution_count": 10,
   "metadata": {},
   "outputs": [],
   "source": [
    "%matplotlib inline"
   ]
  },
  {
   "cell_type": "code",
   "execution_count": 11,
   "metadata": {},
   "outputs": [
    {
     "data": {
      "text/plain": [
       "[<matplotlib.lines.Line2D at 0x7f52d477ab70>]"
      ]
     },
     "execution_count": 11,
     "metadata": {},
     "output_type": "execute_result"
    },
    {
     "data": {
      "image/png": "[encoded data removed]",
      "text/plain": [
       "<Figure size 432x288 with 1 Axes>"
      ]
     },
     "metadata": {
      "needs_background": "light"
     },
     "output_type": "display_data"
    }
   ],
   "source": [
    "plt.plot(x_arr,x_arr)\n",
    "plt.plot(x_arr, y_arr)\n",
    "plt.plot(y_arr, x_env_arr)"
   ]
  },
  {
   "cell_type": "code",
   "execution_count": 12,
   "metadata": {},
   "outputs": [
    {
     "data": {
      "text/plain": [
       "[<matplotlib.lines.Line2D at 0x7f52d471f358>]"
      ]
     },
     "execution_count": 12,
     "metadata": {},
     "output_type": "execute_result"
    },
    {
     "data": {
      "image/png": "[encoded data removed]",
      "text/plain": [
       "<Figure size 432x288 with 1 Axes>"
      ]
     },
     "metadata": {
      "needs_background": "light"
     },
     "output_type": "display_data"
    }
   ],
   "source": [
    "plt.plot(x_arr, x_arr - x_env_arr)"
   ]
  },
  {
   "cell_type": "code",
   "execution_count": 13,
   "metadata": {},
   "outputs": [
    {
     "name": "stdout",
     "output_type": "stream",
     "text": [
      "weight12:\n",
      " [[0.67226432]\n",
      " [0.69166682]\n",
      " [0.90753635]\n",
      " [0.38349095]\n",
      " [0.50718629]]\n",
      "weight23:\n",
      " [[0.95503565 0.56261826 1.09883429 0.52743808 0.72560611]\n",
      " [0.43221365 0.99386888 1.11417497 0.91369985 0.9946491 ]\n",
      " [0.37740583 1.10923155 1.04386021 0.55754865 0.86141165]\n",
      " [0.71138749 1.21662458 0.47694253 0.60188195 0.87863436]\n",
      " [1.06389947 0.88572079 0.60863272 0.70568842 0.6396678 ]]\n",
      "weight34:\n",
      " [[0.77327362 0.85129615 0.54209262 0.59889766 0.35223914]]\n"
     ]
    }
   ],
   "source": [
    "print('weight12:\\n', weight12)\n",
    "print('weight23:\\n' ,weight23)\n",
    "print('weight34:\\n', weight34)"
   ]
  },
  {
   "cell_type": "code",
   "execution_count": null,
   "metadata": {},
   "outputs": [],
   "source": []
  }
 ],
 "metadata": {
  "kernelspec": {
   "display_name": "Python 3",
   "language": "python",
   "name": "python3"
  },
  "language_info": {
   "codemirror_mode": {
    "name": "ipython",
    "version": 3
   },
   "file_extension": ".py",
   "mimetype": "text/x-python",
   "name": "python",
   "nbconvert_exporter": "python",
   "pygments_lexer": "ipython3",
   "version": "3.7.3"
  }
 },
 "nbformat": 4,
 "nbformat_minor": 2
}

{
 "cells": [
  {
   "cell_type": "markdown",
   "metadata": {},
   "source": [
    "# V-rep使用指南\n",
    "V-rep是一个3D机器人仿真软件,功能强大,支持多种编程语言交互,内部默认lua脚本.但支持pytohn, C++等语言远程控制交互"
   ]
  },
  {
   "cell_type": "markdown",
   "metadata": {},
   "source": [
    "## 准备\n",
    "V-Rep安装,参见官网[http://www.coppeliarobotics.com/downloads.html]. 支持linux, windows, mac操作系统,根据直接下载安装即可"
   ]
  },
  {
   "cell_type": "markdown",
   "metadata": {},
   "source": [
    "安装完成之后,若想通过外部编程直接控制v-rep内部机器人,需要通过API操作,下面以ubuntu平台下用python实现为例\n",
    "1. 建立新的文件夹tutorial,将remoteApi.so, vrep.py, vrepConst.py复制到tutorial下 \n",
    "2. 测试python与vrep服务器是否可以正常链接: 将simpleTest.py文件复制到tutorial下,修改simxStart的service port 19999(默认) 为19997(remoteApiConnection.txt).当然也可以直接修改v-rep远程服务端口\n",
    "3. 先打开v-rep软件, 然后再运行simpleTest脚本,输出一下内容表示通信正常,否则检查步骤1,2.\n",
    "\n",
    "```\n",
    "Program started\n",
    "Connected to remote API server\n",
    "Number of objects in the scene:  16\n",
    "Mouse position x:  1768759330\n",
    "Mouse position x:  1768759330\n",
    "...\n",
    "```"
   ]
  },
  {
   "cell_type": "markdown",
   "metadata": {},
   "source": [
    "## 基本介绍\n",
    "外部python脚本实现vrep中模型修改仿真等功能. python脚本相当于客户端, 而vrep相当与服务器. 下面对客户端函数进行介绍\n",
    "remote API提供四种通信机制来执行函数调用或者控制仿真进程\n",
    "- Blocking function calls\n",
    "- Non-blocking function calls\n",
    "- Data streaming\n",
    "- Synchronous operation"
   ]
  },
  {
   "cell_type": "markdown",
   "metadata": {},
   "source": [
    "Blocking function calls\n",
    "\n",
    "这种函数调用方式应用在, 必须有返回结果才可执行下一步动作的场景,比如获取连接对象的句柄\n",
    "```\n",
    "// Following function (blocking mode) will retrieve an object handle:\n",
    "\n",
    "if (simxGetObjectHandle(clientID,\"myJoint\",&jointHandle,simx_opmode_blocking)==simx_return_ok) \n",
    "\n",
    "{\n",
    "    here we have the joint handle in variable jointHandle!    \n",
    "}\n",
    "```\n",
    "![](./pic/blocking_fun.png)\n"
   ]
  },
  {
   "cell_type": "markdown",
   "metadata": {},
   "source": [
    "Non-blocking function calls\n",
    "应用场景为, 只关心发送数据, 不关心是否有相应,如设置连接位置信息\n",
    "```\n",
    "// Following function (non-blocking mode) will set the position of a joint:\n",
    "simxSetJointPosition(clientID,jointHandle,jointPosition,simx_opmode_oneshot); \n",
    "```\n",
    "![](./pic/non_blocking_fun.png)"
   ]
  },
  {
   "cell_type": "markdown",
   "metadata": {},
   "source": [
    "一些场合,需要数据在远程服务器端同时执行, 需要将数据一起打包发送, 如需要服务器端连接同时, 同一仿真周期执行相应的命令, 这需要暂时停止通信, 如下\n",
    "\n",
    "```\n",
    "simxPauseCommunication(clientID,1);\n",
    "simxSetJointPosition(clientID,joint1Handle,joint1Value,simx_opmode_oneshot);\n",
    "simxSetJointPosition(clientID,joint2Handle,joint2Value,simx_opmode_oneshot);\n",
    "simxSetJointPosition(clientID,joint3Handle,joint3Value,simx_opmode_oneshot);\n",
    "simxPauseCommunication(clientID,0);\n",
    "\n",
    "// Above's 3 joints will be received and set on the V-REP side at the same time\n",
    "```\n",
    "![](./pic/temp_pause_comm.png)"
   ]
  },
  {
   "cell_type": "markdown",
   "metadata": {},
   "source": [
    "Data streaming\n",
    "服务器可以预测你需要的数据, 将其保存到缓冲区\n",
    "\n",
    "![](./pic/data_stream.png)"
   ]
  },
  {
   "cell_type": "markdown",
   "metadata": {},
   "source": [
    "Synchronous operation\n",
    "\n",
    "以上三种操作默认为异步进行, 即vrep内部仿真一直运行, 而没有考虑client的运行. 有些场景需要client与仿真同步进行, 以便于能够控制仿真的执行. 同步运行方式如下\n",
    "```\n",
    "simxSynchronous(clientID,true); // Enable the synchronous mode (Blocking function call)\n",
    "simxStartSimulation(clientID,simx_opmode_oneshot);\n",
    "\n",
    "// The first simulation step waits for a trigger before being executed\n",
    "\n",
    "simxSynchronousTrigger(clientID); // Trigger next simulation step (Blocking function call)\n",
    "\n",
    "// The first simulation step is now being executed\n",
    "\n",
    "simxSynchronousTrigger(clientID); // Trigger next simulation step (Blocking function call)\n",
    "\n",
    "// The second simulation step is now being executed\n",
    "\n",
    "...\n",
    "```\n",
    "同步模式如下\n",
    "\n",
    "![](./pic/syschron_mode.png)\n",
    "\n",
    "当调用Trigger函数后, 下一步仿真将会开始计算. 这并不代表, 当函数调用返回时, 下一步仿真会计算完成. 基于改原因, 必须确保获取正确的数据.\n",
    "可采用一下方式解决该问题\n",
    "\n",
    "![](./pic/syschron_mode_un.png)\n"
   ]
  },
  {
   "cell_type": "markdown",
   "metadata": {},
   "source": [
    "第二种解决该问题的方式\n",
    "\n",
    "```\n",
    "simxSynchronous(clientID,true); // Enable the synchronous mode (Blocking function call)\n",
    "simxStartSimulation(clientID,simx_opmode_oneshot);\n",
    "\n",
    "// The first simulation step waits for a trigger before being executed\n",
    "\n",
    "simxSynchronousTrigger(clientID); // Trigger next simulation step (Blocking function call)\n",
    "\n",
    "// The first simulation step is now being executed\n",
    "\n",
    "simxGetPingTime(clientID); // After this call, the first simulation step is finished (Blocking function call)\n",
    "\n",
    "// Now we can safely read all streamed values\n",
    "```\n",
    "\n",
    "![](./pic/syschron_mode_un2.png)"
   ]
  },
  {
   "cell_type": "markdown",
   "metadata": {},
   "source": [
    "### 基本函数介绍\n",
    "\n",
    "结束已建立的通信, clientID=-1代表结束所有的通信\n",
    "```\n",
    "simxFinsh(clientID)\n",
    "```\n",
    "**与vrep建立通信**\n",
    "```\n",
    "clientID = simxStart(addr, port, waitUntilConnected, doNotReconnectOnceDisconnected,timeOutInMs, commThreadCycleInMs)\n",
    "# addr: vrep端IP地址, 如'127.0.0.1'\n",
    "# port: vrep开放端口, 如19997\n",
    "# waitUntilConnected: 如果为True, 链接上或者超时之前,功能一直阻塞\n",
    "# doNotReconnectOnceDisconnected: 若为True, 当链接丢失后, 通信线程将不会进行第二次链接尝试\n",
    "# timeOutInMs: 其绝对值连接超时时间, 暂时不解释正负含义, 如5000\n",
    "# commThreadCycleInMs: 数据发送与取回时间间隔, 如5\n",
    "```\n",
    "**同步操作模式**\n",
    "```\n",
    "simxSynchronous(clientID, enable)\n",
    "# clientID: 客户端 ID, 如0\n",
    "# enable: 是否启用同步操作功能, 如True\n",
    "```\n",
    "**发送同步出发信号给vrep**\n",
    "```\n",
    "simxSynchronousTrigger(clientID)\n",
    "# 前提simxSynchronous使能\n",
    "```\n",
    "**获取对象句柄**\n",
    "```\n",
    "returnCode, handle = simxGetObjectHandle(clientID, objectName, operationMode)\n",
    "# clientID: client ID\n",
    "# objectName: 对象名称, 如'Jaco_joint1'\n",
    "# operationMode: remote API函数执行模式. 推荐 simx_opmode_blocking\n",
    "```\n",
    "operationMode\n",
    "\n",
    "1. simx_opmode_oneshot\n",
    "2. simx_opmode_blocking (or simx_opmode_oneshot_wait)\n",
    "3. simx_opmode_streaming + alpha\n",
    "4. simx_opmode_oneshot_split + beta (not recommended)\n",
    "5. simx_opmode_streaming_split + beta (not recommended)\n",
    "6. simx_opmode_discontinue\n",
    "7. simx_opmode_buffer\n",
    "8. simx_opmode_remove\n",
    "\n"
   ]
  },
  {
   "cell_type": "markdown",
   "metadata": {},
   "source": [
    "获取对象位置\n",
    "```\n",
    "retrunCode, position = simxGetObjectPosition(clientID, objectHandle, relativeToObjectHandle, operationMode)\n",
    "# relativeToObjectMode: 参考系, -1代表绝对坐标, sim_handle_parent相对父对象参考系的位移\n",
    "# operationMode\n",
    "```"
   ]
  },
  {
   "cell_type": "markdown",
   "metadata": {},
   "source": [
    "**同步操作命令**\n",
    "```\n",
    "simxSynchronousTrigger(clientID)\n",
    "```"
   ]
  },
  {
   "cell_type": "markdown",
   "metadata": {},
   "source": [
    "获取joint对象位移\n",
    "```\n",
    "returnCode, position = simxGetJointPosition(clientID, jointHandle, operationMode)\n",
    "```\n",
    "设定joint对象期望位移\n",
    "```\n",
    "returnCode = simxSetJointTargetPosition(clientID, jointHandle, tartgetPosition, operationMode)\n",
    "```"
   ]
  },
  {
   "cell_type": "markdown",
   "metadata": {},
   "source": [
    "设定joint对象期望速度\n",
    "```\n",
    "returnCode = simxSetJointTargetVelocity(clientID, jointHandle, targetVelocity, operationMode)\n",
    "```\n"
   ]
  },
  {
   "cell_type": "markdown",
   "metadata": {},
   "source": [
    "暂时停止通信\n",
    "```\n",
    "vrep.simxPauseCommunication(clientID,True)\n",
    "vrep.simxSetJointPosition(clientID,joint1Handle,joint1Value,vrep.simx_opmode_oneshot)\n",
    "vrep.simxSetJointPosition(clientID,joint2Handle,joint2Value,vrep.simx_opmode_oneshot)\n",
    "vrep.simxSetJointPosition(clientID,joint3Handle,joint3Value,vrep.simx_opmode_oneshot)\n",
    "vrep.simxPauseCommunication(clientID,False)\n",
    "```"
   ]
  },
  {
   "cell_type": "markdown",
   "metadata": {},
   "source": [
    "# 实例仿真分析\n",
    "vrep模型采用自带的机械臂-Jaco, 运行控制脚本前,需要将v-rep软件打开, 并且将Jaco arm模型导入到scene中"
   ]
  },
  {
   "cell_type": "code",
   "execution_count": null,
   "metadata": {},
   "outputs": [],
   "source": [
    "import sys\n",
    "\n",
    "sys.path.append('./lib')\n",
    "\n",
    "import vrep\n",
    "import numpy as np\n",
    "import math\n",
    "import time"
   ]
  },
  {
   "cell_type": "code",
   "execution_count": null,
   "metadata": {},
   "outputs": [],
   "source": [
    "# end the communication thread\n",
    "# simxFinish(number clientID) -1 represent all running communication threads\n",
    "vrep.simxFinish(-1)\n",
    "\n",
    "# connect to vrep server \n",
    "# simxStart(connectionAddress, Port, waitUnitilConnected, timeOutInMs, commCycleInMs)\n",
    "while True:\n",
    "    \n",
    "    clientID = vrep.simxStart('127.0.0.1', 19997, True, True, 5000,5)\n",
    "    if clientID > -1:\n",
    "        break\n",
    "    else:\n",
    "        time.sleep(0.2)\n",
    "        print(\"Failed connecting to remoteAPI server\")\n",
    "print(\"Connection Success!\")\n",
    "print(\"clientID\", clientID)"
   ]
  },
  {
   "cell_type": "code",
   "execution_count": null,
   "metadata": {},
   "outputs": [],
   "source": [
    "# set info\n",
    "\n",
    "RAD2DEG = 180 / math.pi\n",
    "t_step = 0.005\n",
    "base_name = 'Jaco'\n",
    "joint_name = 'Jaco_joint'\n",
    "joint_num = 6"
   ]
  },
  {
   "cell_type": "code",
   "execution_count": null,
   "metadata": {},
   "outputs": [],
   "source": [
    "# set parameter\n",
    "# simxSetFloatingParameter(clientID parameterIdentifier, paraValue, operationMode)\n",
    "# simxSetBooleanParameter(clientID parameterIdentifier, paraValue, operationMode)\n",
    "# simxSetIntegerParameter(clientID parameterIdentifier, paraValue, operationMode)\n",
    "\n",
    "vrep.simxSetFloatingParameter(clientID, vrep.sim_floatparam_simulation_time_step, t_step, vrep.simx_opmode_oneshot)"
   ]
  },
  {
   "cell_type": "code",
   "execution_count": null,
   "metadata": {},
   "outputs": [],
   "source": [
    "# synchronous\n",
    "vrep.simxSynchronous(clientID, True)"
   ]
  },
  {
   "cell_type": "code",
   "execution_count": null,
   "metadata": {},
   "outputs": [],
   "source": [
    "# start simulation\n",
    "vrep.simxStartSimulation(clientID, vrep.simx_opmode_oneshot)"
   ]
  },
  {
   "cell_type": "code",
   "execution_count": null,
   "metadata": {},
   "outputs": [],
   "source": [
    "joint_handle = np.zeros((joint_num,), dtype=np.int)"
   ]
  },
  {
   "cell_type": "code",
   "execution_count": null,
   "metadata": {},
   "outputs": [],
   "source": [
    "for i in range(joint_num):\n",
    "    _, handle = vrep.simxGetObjectHandle(clientID, joint_name + str(i + 1), vrep.simx_opmode_blocking)\n",
    "    joint_handle[i] = handle\n",
    "    print('joint handle is :', handle)\n",
    "_, base_handle = vrep.simxGetObjectHandle(clientID, base_name, vrep.simx_opmode_blocking)\n",
    "print('base handle:',base_handle)"
   ]
  },
  {
   "cell_type": "code",
   "execution_count": null,
   "metadata": {},
   "outputs": [],
   "source": [
    "_, cylinder = vrep.simxGetObjectHandle(clientID, 'Cylinder0',vrep.simx_opmode_blocking)\n",
    "print(cylinder)\n",
    "_, obj_pos = vrep.simxGetObjectPosition(clientID, cylinder, -1,vrep.simx_opmode_streaming)\n",
    "print(obj_pos)\n"
   ]
  },
  {
   "cell_type": "code",
   "execution_count": null,
   "metadata": {},
   "outputs": [],
   "source": [
    "_ = vrep.simxSetObjectPosition(clientID, cylinder, -1, (0.0, 0.0, 1.0),vrep.simx_opmode_oneshot)\n"
   ]
  },
  {
   "cell_type": "code",
   "execution_count": null,
   "metadata": {},
   "outputs": [],
   "source": [
    "joint_pos = np.zeros((joint_num,))\n",
    "for i in range(joint_num):\n",
    "    _, jpos = vrep.simxGetJointPosition(clientID, joint_handle[i],vrep.simx_opmode_streaming)\n",
    "    joint_pos[i] = jpos\n",
    "    \n",
    "print('joint pos:', joint_pos * RAD2DEG)"
   ]
  },
  {
   "cell_type": "code",
   "execution_count": null,
   "metadata": {},
   "outputs": [],
   "source": [
    "# target_pos = np.array([130, 120, 80, 90, 90, 90], dtype=float)\n",
    "# set joint position\n",
    "# for i in range(joint_num):\n",
    "#    _ = vrep.simxSetJointPosition(clientID, joint_handle[i], target_pos[i] / RAD2DEG, vrep.simx_opmode_oneshot)"
   ]
  },
  {
   "cell_type": "code",
   "execution_count": null,
   "metadata": {},
   "outputs": [],
   "source": [
    "vrep.simxSynchronousTrigger(clientID)\n",
    "target_pos = np.array([130, 120, 80, 90, 90, 90], dtype=float)\n",
    "\n",
    "counter = 0"
   ]
  },
  {
   "cell_type": "code",
   "execution_count": null,
   "metadata": {},
   "outputs": [],
   "source": [
    "while vrep.simxGetConnectionId(clientID) != -1:\n",
    "    for i in range(joint_num):\n",
    "        _,jpos = vrep.simxGetJointPosition(clientID, joint_handle[i], vrep.simx_opmode_buffer)\n",
    "        joint_pos[i] = jpos\n",
    "    # temporarily halt the communication thread from sending data\n",
    "    vrep.simxPauseCommunication(clientID, True)\n",
    "    for i in range(joint_num):\n",
    "        target_pos_single = target_pos[i] / RAD2DEG\n",
    "        vrep.simxSetJointTargetPosition(clientID, joint_handle[i], target_pos_single, vrep.simx_opmode_oneshot)\n",
    "    vrep.simxPauseCommunication(clientID, False)\n",
    "    \n",
    "    vrep.simxSynchronousTrigger(clientID)\n",
    "    counter = counter + 1\n",
    "    if counter==50: \n",
    "        print('target position:', target_pos)\n",
    "        print('joint position:',joint_pos * RAD2DEG)\n",
    "        \n",
    "        counter = 0;\n",
    "    "
   ]
  },
  {
   "cell_type": "code",
   "execution_count": null,
   "metadata": {},
   "outputs": [],
   "source": [
    "vrep.simxStopSimulation(clientID, vrep.simx_opmode_oneshot)"
   ]
  },
  {
   "cell_type": "code",
   "execution_count": null,
   "metadata": {},
   "outputs": [],
   "source": []
  },
  {
   "cell_type": "code",
   "execution_count": null,
   "metadata": {},
   "outputs": [],
   "source": []
  }
 ],
 "metadata": {
  "kernelspec": {
   "display_name": "Python 3",
   "language": "python",
   "name": "python3"
  },
  "language_info": {
   "codemirror_mode": {
    "name": "ipython",
    "version": 3
   },
   "file_extension": ".py",
   "mimetype": "text/x-python",
   "name": "python",
   "nbconvert_exporter": "python",
   "pygments_lexer": "ipython3",
   "version": "3.7.3"
  }
 },
 "nbformat": 4,
 "nbformat_minor": 2
}

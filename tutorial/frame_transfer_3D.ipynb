{
 "cells": [
  {
   "cell_type": "markdown",
   "metadata": {},
   "source": [
    "# 运动学中一些坐标系统变换"
   ]
  },
  {
   "cell_type": "markdown",
   "metadata": {},
   "source": [
    "日期: 2016-06-23\n",
    "\n",
    "作者: 孙灿杭"
   ]
  },
  {
   "cell_type": "markdown",
   "metadata": {},
   "source": [
    "内容\n",
    "1. 平面坐标系下坐标变换\n",
    "2. 三维坐标系下坐标变换\n",
    "3. 实例分析"
   ]
  },
  {
   "cell_type": "markdown",
   "metadata": {},
   "source": [
    "## 为什么学习坐标点换 \n",
    "对于运动物体, 为了确定其空间位置, 首先需要确定其测量坐标系. 三维物体的坐标在一个坐标系统中好描述, 而在另一个坐标系统中很难描述, 一个矢量在不同坐标系统中的描述往往有一定的关系, 而这种关系可用坐标变换描述."
   ]
  },
  {
   "cell_type": "markdown",
   "metadata": {},
   "source": [
    "![](./pic/vector_in_diff_frame.png)"
   ]
  },
  {
   "cell_type": "markdown",
   "metadata": {},
   "source": [
    "矢量在坐标系Oxy中与在Ox1y1中的形式是不一样的, 但他们本质上代表的同一矢量. 若知道矢量在Oxy坐标系内的坐标, 又知道坐标系Oxy到O1x1y1的转化关系, 就能够求出矢量在坐标O1x1y1的坐标了."
   ]
  },
  {
   "cell_type": "markdown",
   "metadata": {},
   "source": [
    "## 平面坐标变换"
   ]
  },
  {
   "cell_type": "markdown",
   "metadata": {},
   "source": [
    "三维坐标变换比较复杂, 首先从平面坐标变换开始\n",
    "![](./pic/frame_transfer.png)"
   ]
  },
  {
   "cell_type": "markdown",
   "metadata": {},
   "source": [
    "坐标系统Oxy和O1x1y1的基矢分别为$(i_0, j_0)$, $(i_1, j_1)$.坐标系O1x1y1是有坐标系Oxy旋转一定角度$\\theta$得到的.\n",
    "\n",
    "假设矢量$\\textbf{a}$在坐标系Oxy的坐标为$(x^0, y^0)$, 在坐标系O1x1y1的坐标为$(x^1, y^1)$. "
   ]
  },
  {
   "cell_type": "markdown",
   "metadata": {},
   "source": [
    "同一矢量在不同坐标系下表示是相等的, 则"
   ]
  },
  {
   "cell_type": "markdown",
   "metadata": {},
   "source": [
    "$$\n",
    "\\textbf{a} = x^0i_0 + y^0j_0 = x^1i_1 + y^1j_1\n",
    "$$"
   ]
  },
  {
   "cell_type": "markdown",
   "metadata": {},
   "source": [
    "$$\n",
    "\\begin{bmatrix}\n",
    "x^1 \\\\\n",
    "y^1 \\\\\n",
    "\\end{bmatrix}\n",
    "=\n",
    "\\begin{bmatrix}\n",
    "i_1\\cdot i_0 & i_1\\cdot j_0 \\\\\n",
    "j_1\\cdot i_0 & j_1\\cdot j_0 \\\\\n",
    "\\end{bmatrix}\n",
    "\\cdot\n",
    "\\begin{bmatrix}\n",
    "x^0 \\\\\n",
    "y^0 \\\\\n",
    "\\end{bmatrix}\n",
    "$$"
   ]
  },
  {
   "cell_type": "markdown",
   "metadata": {},
   "source": [
    "即\n",
    "$$\n",
    "\\begin{bmatrix}\n",
    "x^1 \\\\\n",
    "y^1 \\\\\n",
    "\\end{bmatrix}\n",
    "=\n",
    "T_0^1\n",
    "\\cdot\n",
    "\\begin{bmatrix}\n",
    "x^0 \\\\\n",
    "y^0 \\\\\n",
    "\\end{bmatrix}\n",
    "$$"
   ]
  },
  {
   "cell_type": "markdown",
   "metadata": {},
   "source": [
    "其中\n",
    "$\n",
    "T_0^1 = \n",
    "\\begin{bmatrix}\n",
    "cos(\\theta) & sin(\\theta) \\\\\n",
    "-sin(\\theta) & cos(\\theta) \\\\\n",
    "\\end{bmatrix}$\n",
    ",$T_0^1$为坐标系Oxy到O1x1y1的转换矩阵"
   ]
  },
  {
   "cell_type": "code",
   "execution_count": 1,
   "metadata": {},
   "outputs": [],
   "source": [
    "import numpy as np\n",
    "import math "
   ]
  },
  {
   "cell_type": "code",
   "execution_count": 2,
   "metadata": {},
   "outputs": [],
   "source": [
    "theta = 45\n",
    "deg2rad = math.pi / 180\n",
    "\n",
    "# (x0, y0)\n",
    "X0 = np.array([1, 1]).reshape(2,1)\n",
    "T_0_1 = np.array([[math.cos(theta*deg2rad), math.sin(theta*deg2rad)],\n",
    "                  [-math.sin(theta*deg2rad), math.cos(theta*deg2rad)]])"
   ]
  },
  {
   "cell_type": "code",
   "execution_count": 3,
   "metadata": {},
   "outputs": [],
   "source": [
    "# (x1, y1)\n",
    "X1 = np.matmul(T_0_1, X0)"
   ]
  },
  {
   "cell_type": "code",
   "execution_count": 4,
   "metadata": {},
   "outputs": [
    {
     "name": "stdout",
     "output_type": "stream",
     "text": [
      "X0:\n",
      " [1 1]\n",
      "X1:\n",
      " [1.41421356e+00 1.11022302e-16]\n"
     ]
    }
   ],
   "source": [
    "print('X0:\\n', X0.flatten())\n",
    "print('X1:\\n', X1.flatten())"
   ]
  },
  {
   "cell_type": "markdown",
   "metadata": {},
   "source": [
    "## 三维空间坐标变换"
   ]
  },
  {
   "cell_type": "markdown",
   "metadata": {},
   "source": [
    "三维空间坐标变换包括旋转矩阵, 欧拉角,四元数等,本节重点介绍欧拉角形式的坐标转换. 坐标系绕其一轴旋转称作基元旋转.  \n",
    "如图, 给出了基元旋转的三种情况, 绕x轴, y轴, z轴旋转\n",
    "![](./pic/frame_axel_3.png)"
   ]
  },
  {
   "cell_type": "markdown",
   "metadata": {},
   "source": [
    "对应的旋转矩阵, 分别为\n",
    "$$\n",
    "R_x(\\alpha) = \n",
    "\\begin{bmatrix}\n",
    "1 & 0 & 0 \\\\\n",
    "0 & cos(\\alpha) & sin(\\alpha)\\\\\n",
    "0 & -sin(\\alpha) & cos(\\alpha)\\\\ \n",
    "\\end{bmatrix}\n",
    "\\\\\n",
    "R_y(\\beta) = \n",
    "\\begin{bmatrix}\n",
    "cos(\\beta) & 0 & -sin(\\beta)\\\\\n",
    "    0 & 1 & 0\\\\\n",
    "sin(\\beta) & 0 & cos(\\beta)\\\\\n",
    "\\end{bmatrix}\n",
    "\\\\\n",
    "R_z(\\gamma) = \n",
    "\\begin{bmatrix}\n",
    "cos(\\beta) & sin(\\beta) & 0\\\\\n",
    "-sin(\\beta) & cos(\\beta) & 0\\\\\n",
    "0 & 0 & 1\\\\\n",
    "\\end{bmatrix}\n",
    "$$"
   ]
  },
  {
   "cell_type": "markdown",
   "metadata": {},
   "source": [
    "任意两个坐标系转换可以通过若干次旋转实现. 常见的形式是通过三次基元旋转完成坐标变换.  \n",
    "如图,\n",
    "![](./pic/transfer_3.png)"
   ]
  },
  {
   "cell_type": "markdown",
   "metadata": {},
   "source": [
    "有坐标系统$Ox_ay_az_z$依次绕,z轴,y轴,x轴旋转得到坐标系统$Ox_by_bz_b$, 旋转角度分别为$\\psi, \\theta, \\phi$."
   ]
  },
  {
   "cell_type": "markdown",
   "metadata": {},
   "source": [
    "$$ \n",
    "Ox_ay_az_a\\stackrel{R_z(\\psi)}{\\longrightarrow}Ox^\\prime y^\\prime z_a\n",
    "\\stackrel{R_y(\\theta)}{\\longrightarrow}Ox^b y^\\prime z^{\\prime\\prime}\n",
    "\\stackrel{R_x(\\phi)}{\\longrightarrow}Ox_b y_b z_b\n",
    "$$"
   ]
  },
  {
   "cell_type": "markdown",
   "metadata": {},
   "source": [
    "那么, 坐标变换矩阵\n",
    "$$\n",
    "T_a^b = R_x(\\phi)R_y(\\theta)R_z(\\psi)\n",
    "$$"
   ]
  },
  {
   "cell_type": "markdown",
   "metadata": {},
   "source": [
    "坐标系$Ox_ay_az_a$下的坐标转换到$Ox_by_bz_b$形式如下"
   ]
  },
  {
   "cell_type": "markdown",
   "metadata": {},
   "source": [
    "$$\n",
    "\\begin{bmatrix}\n",
    "x \\\\\n",
    "y \\\\\n",
    "z \\\\\n",
    "\\end{bmatrix}^a\n",
    "=\n",
    "T_a^b\n",
    "\\cdot\n",
    "\\begin{bmatrix}\n",
    "x \\\\\n",
    "y \\\\\n",
    "z \\\\\n",
    "\\end{bmatrix}^b\n",
    "$$"
   ]
  },
  {
   "cell_type": "markdown",
   "metadata": {},
   "source": [
    "欧拉角形式的坐标转换一共有12, 旋转顺序依次  \n",
    "x-y-z x-z-y y-x-z y-z-x z-x-y z-y-x  \n",
    "x-y-x x-z-x y-x-y y-z-y z-x-z z-y-z"
   ]
  },
  {
   "cell_type": "markdown",
   "metadata": {},
   "source": [
    "## 实例分析\n",
    "以悬架平面为例,建立如下坐标系\n"
   ]
  },
  {
   "cell_type": "markdown",
   "metadata": {},
   "source": [
    "代码实现"
   ]
  }
 ],
 "metadata": {
  "kernelspec": {
   "display_name": "Python 3",
   "language": "python",
   "name": "python3"
  },
  "language_info": {
   "codemirror_mode": {
    "name": "ipython",
    "version": 3
   },
   "file_extension": ".py",
   "mimetype": "text/x-python",
   "name": "python",
   "nbconvert_exporter": "python",
   "pygments_lexer": "ipython3",
   "version": "3.7.3"
  }
 },
 "nbformat": 4,
 "nbformat_minor": 2
}

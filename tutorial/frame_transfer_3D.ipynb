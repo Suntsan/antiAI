{
 "cells": [
  {
   "cell_type": "markdown",
   "metadata": {},
   "source": [
    "# 运动学中一些坐标系统变换"
   ]
  },
  {
   "cell_type": "markdown",
   "metadata": {},
   "source": [
    "日期: 2019-06-28  \n",
    "作者: 孙灿杭"
   ]
  },
  {
   "cell_type": "markdown",
   "metadata": {},
   "source": [
    "内容  \n",
    "1. 平面坐标系下坐标变换\n",
    "2. 三维坐标系下坐标变换\n",
    "3. 实例分析"
   ]
  },
  {
   "cell_type": "markdown",
   "metadata": {},
   "source": [
    "## 为什么学习坐标点换 \n",
    "对于运动的物体, 为了描述其空间位置, 需要建立坐标系. 就运动特性可分为, 惯性坐标系(静止不动), 运动坐标系.  \n",
    "若只用一套坐标系统来描述物体的运动, 对复杂物体来说变得很困难, 如  \n",
    "1. 机械臂, 每个关节的描述, 都有其独立的坐标系\n",
    "![](./pic/arm_example.png)\n",
    "\n",
    "2. 避障小车, 包含惯性坐标系, 本体坐标系, 相机坐标系, 超声传感器坐标系等 \n",
    "![](./pic/car_example.png)"
   ]
  },
  {
   "cell_type": "markdown",
   "metadata": {},
   "source": [
    "在复杂系统中, 一般有多个坐标系统用来描述相应部件的位置, 速度等状态的. 相同的空间点, 在不同的坐标系下, 描述的难易程度是不一样的. 比如避障小车的超声传感器信号, 在超声传感器坐标系下与在本体坐标系下, 描述难易不一致. 那么, 如何在较难表示的坐标系统中, 表示点或者线等元素呢?   \n",
    "相同物体在不同坐标系统中的描述具有一定的关系, 而这种关系可用坐标变换描述.\n",
    "\n",
    "![](./pic/vector_in_diff_frame.png)\n",
    "\n",
    "如, 若已知点A在Oxy坐标系内的坐标, 又知道坐标系Oxy到O1x1y1的转化关系, 就能够求出点A在坐标O1x1y1的坐标.\n",
    "坐标系的关系大体可分为:\n",
    "1. 旋转\n",
    "2. 平移\n",
    "3. 缩放\n",
    "4. 仿射\n",
    "\n",
    "下面只讲解坐标系旋转."
   ]
  },
  {
   "cell_type": "markdown",
   "metadata": {},
   "source": [
    "## 平面坐标变换\n",
    "**例子**\n",
    "![](./pic/frame_exp.png)  \n",
    "\n",
    "矢量(向量)是指有大小和方向的量\n",
    "![](./pic/vector_a.png)\n",
    "在指定坐标系统下, 矢量$\\textbf{a}$可表示为.\n",
    "$$\n",
    "\\textbf{a} = x\\textbf{i} + y\\textbf{j}\n",
    "$$\n",
    "其中, $\\textbf{i}, \\textbf{j}$是坐标系的基矢量, $x,y$称作该基矢量下的坐标  \n",
    "\n",
    "一般来说, 平时采用坐形式, 标简化矢量在指定坐标系下的表示, 如向量\n",
    "$[1,2]^T$"
   ]
  },
  {
   "cell_type": "markdown",
   "metadata": {},
   "source": [
    "三维坐标变换比较复杂, 首先从平面坐标变换开始\n",
    "![](./pic/frame_transfer.png)"
   ]
  },
  {
   "cell_type": "markdown",
   "metadata": {},
   "source": [
    "坐标系统Oxy和O1x1y1的基单位矢分别为$(\\textbf i_0, \\textbf j_0)$, $(\\textbf i_1, \\textbf j_1)$.  \n",
    "即,\n",
    "$$\n",
    "\\textbf i_0 \\cdot \\textbf i_0 = 1 \\\\\n",
    "\\textbf i_0 \\cdot \\textbf j_0 = 0 \\\\\n",
    "\\textbf i_1 \\cdot \\textbf i_1 = 1 \\\\\n",
    "\\textbf i_1 \\cdot \\textbf j_1 = 0 \\\\\n",
    "$$"
   ]
  },
  {
   "cell_type": "markdown",
   "metadata": {},
   "source": [
    "坐标系O1x1y1是有坐标系Oxy旋转一定角度$\\theta$得到的.  \n",
    "假设矢量$\\textbf{a}$在坐标系Oxy的坐标为$(x^0, y^0)$, 在坐标系O1x1y1的坐标为$(x^1, y^1)$.  \n",
    "同一矢量在不同坐标系下表示是相等的, 则\n",
    "$$\n",
    "\\textbf{a} = x^0 \\textbf i_0 + y^0 \\textbf j_0 = x^1 \\textbf i_1 + y^1 \\textbf j_1\n",
    "$$"
   ]
  },
  {
   "cell_type": "markdown",
   "metadata": {},
   "source": [
    "则\n",
    "$$\n",
    "\\begin{bmatrix}\n",
    "x^1 \\\\\n",
    "y^1 \\\\\n",
    "\\end{bmatrix}\n",
    "=\n",
    "\\begin{bmatrix}\n",
    "\\textbf i_1\\cdot \\textbf i_0 & \\textbf i_1\\cdot \\textbf j_0 \\\\\n",
    "\\textbf j_1\\cdot \\textbf i_0 & \\textbf j_1\\cdot \\textbf j_0 \\\\\n",
    "\\end{bmatrix}\n",
    "\\cdot\n",
    "\\begin{bmatrix}\n",
    "x^0 \\\\\n",
    "y^0 \\\\\n",
    "\\end{bmatrix}\n",
    "$$"
   ]
  },
  {
   "cell_type": "markdown",
   "metadata": {},
   "source": [
    "即\n",
    "$$\n",
    "\\begin{bmatrix}\n",
    "x^1 \\\\\n",
    "y^1 \\\\\n",
    "\\end{bmatrix}\n",
    "=\n",
    "T_0^1\n",
    "\\cdot\n",
    "\\begin{bmatrix}\n",
    "x^0 \\\\\n",
    "y^0 \\\\\n",
    "\\end{bmatrix}\n",
    "$$"
   ]
  },
  {
   "cell_type": "markdown",
   "metadata": {},
   "source": [
    "其中\n",
    "$\n",
    "T_0^1 = \n",
    "\\begin{bmatrix}\n",
    "cos(\\theta) & sin(\\theta) \\\\\n",
    "-sin(\\theta) & cos(\\theta) \\\\\n",
    "\\end{bmatrix}$\n",
    ",$T_0^1$为坐标系Oxy到O1x1y1的转换矩阵"
   ]
  },
  {
   "cell_type": "markdown",
   "metadata": {},
   "source": [
    "旋转矩阵具有如下性质\n",
    "$$\n",
    "(T_0^1)^{-1} = (T_0^1)^T\n",
    "$$"
   ]
  },
  {
   "cell_type": "markdown",
   "metadata": {},
   "source": [
    "**代码实现**"
   ]
  },
  {
   "cell_type": "code",
   "execution_count": 5,
   "metadata": {},
   "outputs": [],
   "source": [
    "import numpy as np\n",
    "import math "
   ]
  },
  {
   "cell_type": "code",
   "execution_count": 6,
   "metadata": {},
   "outputs": [],
   "source": [
    "theta = 90\n",
    "deg2rad = math.pi / 180\n",
    "\n",
    "# (x0, y0)\n",
    "X0 = np.array([1, 1]).reshape(2,1)\n",
    "T_0_1 = np.array([[math.cos(theta*deg2rad), math.sin(theta*deg2rad)],\n",
    "                  [-math.sin(theta*deg2rad), math.cos(theta*deg2rad)]])"
   ]
  },
  {
   "cell_type": "code",
   "execution_count": 7,
   "metadata": {},
   "outputs": [],
   "source": [
    "# (x1, y1)\n",
    "X1 = np.matmul(T_0_1, X0)"
   ]
  },
  {
   "cell_type": "code",
   "execution_count": 8,
   "metadata": {},
   "outputs": [
    {
     "name": "stdout",
     "output_type": "stream",
     "text": [
      "X0:\n",
      " [1 1]\n",
      "X1:\n",
      " [ 1. -1.]\n"
     ]
    }
   ],
   "source": [
    "print('X0:\\n', X0.flatten())\n",
    "print('X1:\\n', X1.flatten())"
   ]
  },
  {
   "cell_type": "markdown",
   "metadata": {},
   "source": [
    "## 三维空间坐标变换\n",
    "三维空间坐标变换包括旋转矩阵, 欧拉角,四元数等. 本节重点介绍欧拉角形式的坐标转换. 坐标系绕其一轴旋转称作基元旋转.  \n",
    "如图, 给出了基元旋转的三种情况, 绕x轴, y轴, z轴旋转\n",
    "\n",
    "![](./pic/frame_axel_3.png)"
   ]
  },
  {
   "cell_type": "markdown",
   "metadata": {},
   "source": [
    "对应的旋转矩阵, 分别为\n",
    "$$\n",
    "R_x(\\alpha) = \n",
    "\\begin{bmatrix}\n",
    "1 & 0 & 0 \\\\\n",
    "0 & cos(\\alpha) & sin(\\alpha)\\\\\n",
    "0 & -sin(\\alpha) & cos(\\alpha)\\\\ \n",
    "\\end{bmatrix}\n",
    "\\\\\n",
    "R_y(\\beta) = \n",
    "\\begin{bmatrix}\n",
    "cos(\\beta) & 0 & -sin(\\beta)\\\\\n",
    "    0 & 1 & 0\\\\\n",
    "sin(\\beta) & 0 & cos(\\beta)\\\\\n",
    "\\end{bmatrix}\n",
    "\\\\\n",
    "R_z(\\gamma) = \n",
    "\\begin{bmatrix}\n",
    "cos(\\gamma) & sin(\\gamma) & 0\\\\\n",
    "-sin(\\gamma) & cos(\\gamma) & 0\\\\\n",
    "0 & 0 & 1\\\\\n",
    "\\end{bmatrix}\n",
    "$$"
   ]
  },
  {
   "cell_type": "markdown",
   "metadata": {},
   "source": [
    "任意两个坐标系转换可以通过若干次旋转实现, 常见的形式是通过三次基元旋转完成坐标变换.  \n",
    "如图,\n",
    "![](./pic/transfer_3.png)"
   ]
  },
  {
   "cell_type": "markdown",
   "metadata": {},
   "source": [
    "有坐标系统$Ox_ay_az_z$依次绕z轴,y轴,x轴旋转得到坐标系统$Ox_by_bz_b$, 旋转角度分别为$\\psi, \\theta, \\phi$."
   ]
  },
  {
   "cell_type": "markdown",
   "metadata": {},
   "source": [
    "$$ \n",
    "Ox_ay_az_a\\stackrel{R_z(\\psi)}{\\longrightarrow}Ox^\\prime y^\\prime z_a\n",
    "\\stackrel{R_y(\\theta)}{\\longrightarrow}Ox^b y^\\prime z^{\\prime\\prime}\n",
    "\\stackrel{R_x(\\phi)}{\\longrightarrow}Ox_b y_b z_b\n",
    "$$"
   ]
  },
  {
   "cell_type": "markdown",
   "metadata": {},
   "source": [
    "那么, 坐标转换矩阵\n",
    "$$\n",
    "T_a^b = R_x(\\phi)R_y(\\theta)R_z(\\psi)\n",
    "$$"
   ]
  },
  {
   "cell_type": "markdown",
   "metadata": {},
   "source": [
    "坐标系$Ox_ay_az_a$下的坐标转换到$Ox_by_bz_b$下, 其转换关系如下"
   ]
  },
  {
   "cell_type": "markdown",
   "metadata": {},
   "source": [
    "$$\n",
    "\\begin{bmatrix}\n",
    "x \\\\\n",
    "y \\\\\n",
    "z \\\\\n",
    "\\end{bmatrix}^b\n",
    "=\n",
    "T_a^b\n",
    "\\cdot\n",
    "\\begin{bmatrix}\n",
    "x \\\\\n",
    "y \\\\\n",
    "z \\\\\n",
    "\\end{bmatrix}^a\n",
    "$$"
   ]
  },
  {
   "cell_type": "markdown",
   "metadata": {},
   "source": [
    "欧拉角形式的坐标转换一共有12种, 旋转顺序依次  \n",
    "x-y-z, x-z-y, y-x-z, y-z-x, z-x-y, z-y-x,  \n",
    "x-y-x, x-z-x, y-x-y, y-z-y, z-x-z, z-y-z"
   ]
  },
  {
   "cell_type": "markdown",
   "metadata": {},
   "source": [
    "## 实例分析\n",
    "悬架平面与底盘平面是两个不同的平面,悬架平面为空簧上支撑点与车体链接处所处平面; 底盘平面为车轴所在的平面.\n",
    "针对不同的平面建立相应的坐标系统, 可以得到两个平面之间的变换关系.  "
   ]
  },
  {
   "cell_type": "markdown",
   "metadata": {},
   "source": [
    "### 坐标系建立\n",
    "以悬架平面为例, 建立如下坐标系$f_s$"
   ]
  },
  {
   "cell_type": "markdown",
   "metadata": {},
   "source": [
    "![](./pic/frame_car.jpg)"
   ]
  },
  {
   "cell_type": "markdown",
   "metadata": {},
   "source": [
    "悬架垂直方向俯视图, 坐标原点O建立在四个空簧组成矩形(或梯形)的几何中心. 在悬架平面内, $X$轴指向车头方向. $Y$轴垂直于$X$轴, 指向车体左侧.$Z$轴符合右手定则, 垂直于平面向上. $LF, RF, LR, RR$分别代表左前, 右前, 左后, 右后空簧位置"
   ]
  },
  {
   "cell_type": "markdown",
   "metadata": {},
   "source": [
    "设四个空簧在悬架坐标系下的坐标为:\n",
    "$$\n",
    "LF: (x_1,y_1,0)\\\\ \n",
    "RF: (x_2,y_2,0)\\\\\n",
    "LR: (x_3,y_3,0)\\\\\n",
    "RR: (x_4,y_4,0)\n",
    "$$"
   ]
  },
  {
   "cell_type": "markdown",
   "metadata": {},
   "source": [
    "建立车体坐标系$f_b$, 固定在车辆底盘上, 原点与悬架坐标系重合,$X, Y$平面与底盘平面平行. $X$轴指向车头方向, $Y$轴指向左侧. 同样, $Z$符合右手定则"
   ]
  },
  {
   "cell_type": "markdown",
   "metadata": {},
   "source": [
    "### 坐标旋转矩阵\n",
    "车体坐标系到悬架坐标系转换, 采用欧拉角形式表示. 首先, 车体坐标系绕$Y$轴旋转$\\theta$, 然后绕$X$轴旋转$\\phi$, 最后得到悬架坐标系.    \n",
    "则, 车体坐标系到悬架坐标系转换矩阵$T_b^s$"
   ]
  },
  {
   "cell_type": "markdown",
   "metadata": {},
   "source": [
    "$$\n",
    "T_b^s=R_x(\\phi)R_y(\\theta)=\n",
    "\\begin{bmatrix}\n",
    "c\\theta & 0 &-s\\theta \\\\\n",
    "s\\phi s\\theta & c\\phi & s\\phi c\\theta\\\\\n",
    "c\\phi s\\theta & -s\\phi & c\\phi c\\theta\\\\\n",
    "\\end{bmatrix}\n",
    "$$\n",
    "其中, $s\\theta, c\\theta, s\\phi, c\\phi$分别代表三角函数$sin\\theta, cos\\theta, sin\\phi, cos\\phi$"
   ]
  },
  {
   "cell_type": "markdown",
   "metadata": {},
   "source": [
    "那么,\n",
    "$$\n",
    "T_s^b = (T_b^s)^{T} = \n",
    "\\begin{bmatrix}\n",
    "c\\theta & s\\phi s\\theta & c\\phi s\\theta \\\\\n",
    "0 & c\\phi & -s\\phi\\\\\n",
    "-s\\theta & s\\phi c\\theta & c\\phi c\\theta \\\\\n",
    "\\end{bmatrix}\n",
    "$$"
   ]
  },
  {
   "cell_type": "markdown",
   "metadata": {},
   "source": [
    "### 俯仰角与侧倾角求解"
   ]
  },
  {
   "cell_type": "markdown",
   "metadata": {},
   "source": [
    "悬架平面与底盘平面存在一定的夹角, 绕X轴旋转的产生的夹角称为俯仰角, 绕Y轴旋转的产生的夹角称为侧倾角."
   ]
  },
  {
   "cell_type": "markdown",
   "metadata": {},
   "source": [
    "空簧的位置坐标, 在悬架坐标系下与车体坐标系下转化关系如下\n",
    "$$\n",
    "X_b = T_s^b X_s\n",
    "$$"
   ]
  },
  {
   "cell_type": "markdown",
   "metadata": {},
   "source": [
    "实际中, 可以根据机械结构得到空簧坐标点在悬架坐标系下的坐标. 同时, 又可以通过角度传感器测量得到空簧在车体坐标系下的高度(需转化成相对车体平面的高度)  \n",
    "关系如下"
   ]
  },
  {
   "cell_type": "markdown",
   "metadata": {},
   "source": [
    "$$\n",
    "[z_1,z_2, z_3, z_4]=\n",
    "[- s\\theta，s\\phi c\\theta ]\n",
    "\\begin{bmatrix}\n",
    "x_1 & x_2 & x_3 &x_4\\\\\n",
    "y_1& y_2 & y_3 & y_4\n",
    "\\end{bmatrix}\n",
    "$$\n",
    "\n",
    "其中, $x_i, y_i(i=1,2,3,4)$分别代表空簧在悬架坐标系下的坐标, $z_i(i=1,2,3,4)$代表空簧在车体坐标系下的相对高度."
   ]
  },
  {
   "cell_type": "markdown",
   "metadata": {},
   "source": [
    "原方程可转换成如下形式\n",
    "$$\n",
    "AX = b\n",
    "$$\n",
    "\n",
    "其中, \n",
    "$$\n",
    "A = \n",
    "\\begin{bmatrix}\n",
    "x_1 & y_1 \\\\\n",
    "x_2 & y_2 \\\\\n",
    "x_3 & y_3 \\\\\n",
    "x_4 & y_4 \\\\\n",
    "\\end{bmatrix}\n",
    ",\n",
    "b = \n",
    "\\begin{bmatrix}\n",
    "z_1 \\\\\n",
    "z_2 \\\\\n",
    "z_3 \\\\\n",
    "z_4 \\\\\n",
    "\\end{bmatrix}\n",
    "$$\n",
    "\n",
    "$$\n",
    "X = \n",
    "\\begin{bmatrix}\n",
    "X_1 \\\\\n",
    "X_2 \\\\\n",
    "\\end{bmatrix}\n",
    "= \n",
    "\\begin{bmatrix}\n",
    "-s\\theta \\\\\n",
    "s\\phi c\\theta \\\\\n",
    "\\end{bmatrix}\n",
    "$$"
   ]
  },
  {
   "cell_type": "markdown",
   "metadata": {},
   "source": [
    "根据矩阵左逆关系,\n",
    "$$\n",
    "\\hat{X} = (A^TA)^{-1}A^Tb\n",
    "$$"
   ]
  },
  {
   "cell_type": "markdown",
   "metadata": {},
   "source": [
    "有以上结果, 可求出欧拉角$(\\phi, \\theta)$\n",
    "\n",
    "$$\n",
    "\\theta = -asin(X_1) \\\\\n",
    "\\phi = asin\\left (\\frac{X_2}{cos\\theta}\\right)\n",
    "$$"
   ]
  },
  {
   "cell_type": "markdown",
   "metadata": {},
   "source": [
    "$\\phi, \\theta$只是欧拉角, 若要得到悬架相对底盘的俯仰角, 侧倾角, 可根据以下几何关系求得"
   ]
  },
  {
   "cell_type": "markdown",
   "metadata": {},
   "source": [
    "![](./pic/euler_roll_pitch.jpg)"
   ]
  },
  {
   "cell_type": "markdown",
   "metadata": {},
   "source": [
    "悬架坐标系与车体坐标系的侧倾角(roll),俯仰角(pitch)\n",
    "$$\n",
    "\\begin{align}\n",
    "roll &= atan\n",
    "\\left (\n",
    "\\frac{tan\\phi}{cos\\theta}\n",
    "\\right ) \n",
    "\\\\\n",
    "pitch &= \\theta\n",
    "\\end{align}\n",
    "$$"
   ]
  },
  {
   "cell_type": "markdown",
   "metadata": {},
   "source": [
    "以上采用四个点的信息来估计悬架相对底盘平面的夹角, 求解过程采用了矩阵最小二乘伪逆形式求解. 但同样, 可以采用三个点, 两个点求解平面夹角问题. 步骤不变, 只需根据测量点数目, 将章节中关系式对应的维度缩减, 即可求得相应的角度值."
   ]
  },
  {
   "cell_type": "markdown",
   "metadata": {},
   "source": [
    "# 参考\n",
    "1. 空间坐标变换: \n",
    "2. 伪逆: https://www.cnblogs.com/AndyJee/p/5082508.html"
   ]
  },
  {
   "cell_type": "markdown",
   "metadata": {},
   "source": [
    "**代码实例**"
   ]
  },
  {
   "cell_type": "code",
   "execution_count": 9,
   "metadata": {},
   "outputs": [],
   "source": [
    "import numpy as np\n",
    "import math"
   ]
  },
  {
   "cell_type": "code",
   "execution_count": 10,
   "metadata": {},
   "outputs": [],
   "source": [
    "deg2rad = math.pi / 180\n",
    "rad2deg = 180 / math.pi"
   ]
  },
  {
   "cell_type": "code",
   "execution_count": 11,
   "metadata": {},
   "outputs": [],
   "source": [
    "# position in suspension frame\n",
    "wide = 1000\n",
    "lenght = 1250\n",
    "X_LF = [lenght/2, wide/2]\n",
    "X_RF = [lenght/2, -wide/2]\n",
    "X_LR = [-lenght/2, wide/2]\n",
    "X_RR = [-lenght/2, -wide/2]\n",
    "A = np.array([X_LF, X_RF, X_LR, X_RR]).reshape(4,2)"
   ]
  },
  {
   "cell_type": "code",
   "execution_count": 12,
   "metadata": {
    "scrolled": false
   },
   "outputs": [
    {
     "name": "stdout",
     "output_type": "stream",
     "text": [
      "在悬架坐标系下, 空簧位置:\n",
      " [[ 625.  500.]\n",
      " [ 625. -500.]\n",
      " [-625.  500.]\n",
      " [-625. -500.]]\n"
     ]
    }
   ],
   "source": [
    "print('在悬架坐标系下, 空簧位置:\\n', A)"
   ]
  },
  {
   "cell_type": "code",
   "execution_count": 19,
   "metadata": {},
   "outputs": [],
   "source": [
    "# position in car-body frame\n",
    "Z_measure = np.array([500, 0, 500, 0])\n",
    "Z_in_b = (Z_measure - Z_measure.mean()).reshape(4,1)\n",
    "b = Z_in_b"
   ]
  },
  {
   "cell_type": "code",
   "execution_count": 20,
   "metadata": {
    "scrolled": true
   },
   "outputs": [
    {
     "name": "stdout",
     "output_type": "stream",
     "text": [
      "在车体坐标系下, 空簧相对高度\n",
      " [[ 250.]\n",
      " [-250.]\n",
      " [ 250.]\n",
      " [-250.]]\n"
     ]
    }
   ],
   "source": [
    "print(\"在车体坐标系下, 空簧相对高度\\n\", Z_in_b)"
   ]
  },
  {
   "cell_type": "code",
   "execution_count": 21,
   "metadata": {},
   "outputs": [],
   "source": [
    "A_matrix =np.matmul(np.linalg.inv(np.matmul(np.transpose(A), A)), np.transpose(A))\n",
    "X_esti = np.matmul(A_matrix, b)"
   ]
  },
  {
   "cell_type": "code",
   "execution_count": 22,
   "metadata": {},
   "outputs": [],
   "source": [
    "theta = -math.asin(X_esti[0])\n",
    "phi = math.asin(X_esti[1] / math.cos(theta))"
   ]
  },
  {
   "cell_type": "code",
   "execution_count": 23,
   "metadata": {},
   "outputs": [],
   "source": [
    "roll = math.atan(math.tan(phi) / math.cos(theta)) * rad2deg\n",
    "pitch = theta * rad2deg"
   ]
  },
  {
   "cell_type": "code",
   "execution_count": 24,
   "metadata": {
    "scrolled": true
   },
   "outputs": [
    {
     "name": "stdout",
     "output_type": "stream",
     "text": [
      "phi: 30.000000000000004\n",
      "theta: -0.0\n",
      "侧倾角: 30.000000000000004\n",
      "俯仰角: -0.0\n"
     ]
    }
   ],
   "source": [
    "print('phi:', phi * rad2deg)\n",
    "print('theta:', theta * rad2deg)\n",
    "print(\"侧倾角:\", roll)\n",
    "print(\"俯仰角:\", pitch)"
   ]
  },
  {
   "cell_type": "code",
   "execution_count": 15,
   "metadata": {},
   "outputs": [
    {
     "data": {
      "text/plain": [
       "array([[ 625.,  500.],\n",
       "       [ 625., -500.],\n",
       "       [-625.,  500.],\n",
       "       [-625., -500.]])"
      ]
     },
     "execution_count": 15,
     "metadata": {},
     "output_type": "execute_result"
    }
   ],
   "source": [
    "A"
   ]
  },
  {
   "cell_type": "code",
   "execution_count": 16,
   "metadata": {},
   "outputs": [],
   "source": [
    "theta1_t = 0.2\n",
    "phi1_t = 0.2\n",
    "a_theta = np.array([-np.sin(theta1_t), np.sin(phi1_t) * np.cos(theta1_t)]).reshape(2,1)\n",
    "h_a = -np.matmul(A, a_theta)"
   ]
  }
 ],
 "metadata": {
  "kernelspec": {
   "display_name": "Python 3",
   "language": "python",
   "name": "python3"
  },
  "language_info": {
   "codemirror_mode": {
    "name": "ipython",
    "version": 3
   },
   "file_extension": ".py",
   "mimetype": "text/x-python",
   "name": "python",
   "nbconvert_exporter": "python",
   "pygments_lexer": "ipython3",
   "version": "3.7.3"
  }
 },
 "nbformat": 4,
 "nbformat_minor": 2
}
